{
 "cells": [
  {
   "cell_type": "markdown",
   "id": "c28fa09a",
   "metadata": {},
   "source": [
    "## Assignment 6 – Pandas"
   ]
  },
  {
   "cell_type": "markdown",
   "id": "c5f60b3a",
   "metadata": {},
   "source": [
    " Aviv Yefet   ID:208495267 "
   ]
  },
  {
   "cell_type": "code",
   "execution_count": 151,
   "id": "b3143927",
   "metadata": {},
   "outputs": [],
   "source": [
    "import pandas as pd #pandas library\n",
    "from pandas_datareader import data #data readers (google, html, etc.)\n",
    "#The following line ensures that graphs are rendered in the notebook (and not in another window)\n",
    "%matplotlib inline \n",
    "from bs4 import BeautifulSoup\n",
    "import numpy as np\n",
    "import requests\n",
    "import string \n",
    "import json \n",
    "import re\n",
    "import matplotlib\n",
    "import matplotlib.pyplot as plt"
   ]
  },
  {
   "cell_type": "code",
   "execution_count": 152,
   "id": "9039d0e7",
   "metadata": {},
   "outputs": [],
   "source": [
    "path = \"C:\\\\Users\\\\user\\\\Dropbox\\\\DS MyNotebooks\\\\\"\n",
    "fileName = 'LP_destinations.csv'\n",
    "LP_destinations = pd.read_csv(path+fileName)"
   ]
  },
  {
   "cell_type": "code",
   "execution_count": 153,
   "id": "20d46429",
   "metadata": {},
   "outputs": [
    {
     "data": {
      "text/html": [
       "<div>\n",
       "<style scoped>\n",
       "    .dataframe tbody tr th:only-of-type {\n",
       "        vertical-align: middle;\n",
       "    }\n",
       "\n",
       "    .dataframe tbody tr th {\n",
       "        vertical-align: top;\n",
       "    }\n",
       "\n",
       "    .dataframe thead th {\n",
       "        text-align: right;\n",
       "    }\n",
       "</style>\n",
       "<table border=\"1\" class=\"dataframe\">\n",
       "  <thead>\n",
       "    <tr style=\"text-align: right;\">\n",
       "      <th></th>\n",
       "      <th>City</th>\n",
       "      <th>Country</th>\n",
       "      <th>Description</th>\n",
       "    </tr>\n",
       "  </thead>\n",
       "  <tbody>\n",
       "    <tr>\n",
       "      <th>0</th>\n",
       "      <td>Antalya</td>\n",
       "      <td>Turkey</td>\n",
       "      <td>Once seen simply as the gateway to the Turkish...</td>\n",
       "    </tr>\n",
       "    <tr>\n",
       "      <th>1</th>\n",
       "      <td>Athens</td>\n",
       "      <td>Greece</td>\n",
       "      <td>With equal measures of grunge and grace, Athen...</td>\n",
       "    </tr>\n",
       "    <tr>\n",
       "      <th>2</th>\n",
       "      <td>Ayia-napa</td>\n",
       "      <td>Cyprus</td>\n",
       "      <td>Endless blue-sky days and a coastline riddled ...</td>\n",
       "    </tr>\n",
       "    <tr>\n",
       "      <th>3</th>\n",
       "      <td>Bangkok</td>\n",
       "      <td>Thailand</td>\n",
       "      <td>Same same, but different. This Thailish T-shir...</td>\n",
       "    </tr>\n",
       "    <tr>\n",
       "      <th>4</th>\n",
       "      <td>Barcelona</td>\n",
       "      <td>Spain</td>\n",
       "      <td>Barcelona is an enchanting seaside city with b...</td>\n",
       "    </tr>\n",
       "    <tr>\n",
       "      <th>...</th>\n",
       "      <td>...</td>\n",
       "      <td>...</td>\n",
       "      <td>...</td>\n",
       "    </tr>\n",
       "    <tr>\n",
       "      <th>71</th>\n",
       "      <td>Venice</td>\n",
       "      <td>italy</td>\n",
       "      <td>Imagine the audacity of building a city of mar...</td>\n",
       "    </tr>\n",
       "    <tr>\n",
       "      <th>72</th>\n",
       "      <td>Vienna</td>\n",
       "      <td>Austria</td>\n",
       "      <td>Baroque streetscapes and imperial palaces set ...</td>\n",
       "    </tr>\n",
       "    <tr>\n",
       "      <th>73</th>\n",
       "      <td>Warsaw</td>\n",
       "      <td>Poland</td>\n",
       "      <td>A phoenix arisen from the ashes, Poland's capi...</td>\n",
       "    </tr>\n",
       "    <tr>\n",
       "      <th>74</th>\n",
       "      <td>Zakynthos</td>\n",
       "      <td>Greece</td>\n",
       "      <td>Zakynthos, also known by its Italian name Zant...</td>\n",
       "    </tr>\n",
       "    <tr>\n",
       "      <th>75</th>\n",
       "      <td>Zurich</td>\n",
       "      <td>Switzerland</td>\n",
       "      <td>Culturally vibrant, efficiently run and attrac...</td>\n",
       "    </tr>\n",
       "  </tbody>\n",
       "</table>\n",
       "<p>76 rows × 3 columns</p>\n",
       "</div>"
      ],
      "text/plain": [
       "         City      Country                                        Description\n",
       "0     Antalya       Turkey  Once seen simply as the gateway to the Turkish...\n",
       "1      Athens       Greece  With equal measures of grunge and grace, Athen...\n",
       "2   Ayia-napa       Cyprus  Endless blue-sky days and a coastline riddled ...\n",
       "3     Bangkok     Thailand  Same same, but different. This Thailish T-shir...\n",
       "4   Barcelona        Spain  Barcelona is an enchanting seaside city with b...\n",
       "..        ...          ...                                                ...\n",
       "71     Venice        italy  Imagine the audacity of building a city of mar...\n",
       "72     Vienna      Austria  Baroque streetscapes and imperial palaces set ...\n",
       "73     Warsaw       Poland  A phoenix arisen from the ashes, Poland's capi...\n",
       "74  Zakynthos       Greece  Zakynthos, also known by its Italian name Zant...\n",
       "75     Zurich  Switzerland  Culturally vibrant, efficiently run and attrac...\n",
       "\n",
       "[76 rows x 3 columns]"
      ]
     },
     "execution_count": 153,
     "metadata": {},
     "output_type": "execute_result"
    }
   ],
   "source": [
    "LP_destinations"
   ]
  },
  {
   "cell_type": "markdown",
   "id": "34169fc0",
   "metadata": {},
   "source": [
    "### Add  \"num_of_words\" , “No_punct_description” ,“has_restaurants” ,“has_museums”  and “has_beaches”  columns"
   ]
  },
  {
   "cell_type": "code",
   "execution_count": 155,
   "id": "b7e9d7fa",
   "metadata": {},
   "outputs": [],
   "source": [
    "def num_of_words(description): \n",
    "    description = description.split()\n",
    "    return len(description)"
   ]
  },
  {
   "cell_type": "code",
   "execution_count": 156,
   "id": "16e079dd",
   "metadata": {},
   "outputs": [],
   "source": [
    " LP_destinations[\"num_of_words\"] = LP_destinations[\"Description\"].apply(num_of_words)"
   ]
  },
  {
   "cell_type": "code",
   "execution_count": 157,
   "id": "0153120e",
   "metadata": {},
   "outputs": [],
   "source": [
    "def No_punct_description(description): \n",
    "    description = re.sub(r'[^\\w\\s]', '',description)\n",
    "    description = description.replace(\"\\n\", \" \") \n",
    "    return description\n",
    "    "
   ]
  },
  {
   "cell_type": "code",
   "execution_count": 158,
   "id": "0e3b45c3",
   "metadata": {},
   "outputs": [],
   "source": [
    " LP_destinations[\"No_punct_description\"] = LP_destinations[\"Description\"].apply(No_punct_description)"
   ]
  },
  {
   "cell_type": "code",
   "execution_count": 160,
   "id": "e0ef78bf",
   "metadata": {},
   "outputs": [],
   "source": [
    "def has_restaurants(no_punck_description):\n",
    "    counter=0\n",
    "    desc_lst = no_punck_description.split()\n",
    "    for word in desc_lst:\n",
    "        if word.lower() =='restaurant':\n",
    "            counter = counter + 1\n",
    "    return counter\n",
    "     "
   ]
  },
  {
   "cell_type": "code",
   "execution_count": 161,
   "id": "37ac8bf4",
   "metadata": {},
   "outputs": [],
   "source": [
    " LP_destinations['has_restaurants'] = LP_destinations['No_punct_description'].apply(has_restaurants)"
   ]
  },
  {
   "cell_type": "code",
   "execution_count": 162,
   "id": "1a132f9e",
   "metadata": {},
   "outputs": [],
   "source": [
    "def has_museums(no_punck_description):\n",
    "    counter=0\n",
    "    desc_lst = no_punck_description.split()\n",
    "    for word in desc_lst:\n",
    "        if word.lower() =='museum':\n",
    "            counter = counter + 1\n",
    "    return counter\n",
    "     "
   ]
  },
  {
   "cell_type": "code",
   "execution_count": 163,
   "id": "6d07f838",
   "metadata": {},
   "outputs": [],
   "source": [
    " LP_destinations['has_museums'] = LP_destinations['No_punct_description'].apply(has_museums)"
   ]
  },
  {
   "cell_type": "code",
   "execution_count": 164,
   "id": "0e80e3db",
   "metadata": {},
   "outputs": [],
   "source": [
    "def has_beaches(no_punct_description):\n",
    "    counter=0\n",
    "    desc_lst = no_punct_description.split()\n",
    "    for word in desc_lst:\n",
    "        if word.lower() =='beach' or  word.lower()=='ocean' or word.lower()=='sea':\n",
    "            counter = counter + 1\n",
    "    return counter"
   ]
  },
  {
   "cell_type": "code",
   "execution_count": 165,
   "id": "de64291b",
   "metadata": {},
   "outputs": [],
   "source": [
    " LP_destinations['has_beaches'] = LP_destinations['No_punct_description'].apply(has_beaches)"
   ]
  },
  {
   "cell_type": "code",
   "execution_count": 166,
   "id": "f803583b",
   "metadata": {},
   "outputs": [
    {
     "data": {
      "text/html": [
       "<div>\n",
       "<style scoped>\n",
       "    .dataframe tbody tr th:only-of-type {\n",
       "        vertical-align: middle;\n",
       "    }\n",
       "\n",
       "    .dataframe tbody tr th {\n",
       "        vertical-align: top;\n",
       "    }\n",
       "\n",
       "    .dataframe thead th {\n",
       "        text-align: right;\n",
       "    }\n",
       "</style>\n",
       "<table border=\"1\" class=\"dataframe\">\n",
       "  <thead>\n",
       "    <tr style=\"text-align: right;\">\n",
       "      <th></th>\n",
       "      <th>City</th>\n",
       "      <th>Country</th>\n",
       "      <th>Description</th>\n",
       "      <th>num_of_words</th>\n",
       "      <th>No_punct_description</th>\n",
       "      <th>has_restaurants</th>\n",
       "      <th>has_museums</th>\n",
       "      <th>has_beaches</th>\n",
       "    </tr>\n",
       "  </thead>\n",
       "  <tbody>\n",
       "    <tr>\n",
       "      <th>0</th>\n",
       "      <td>Antalya</td>\n",
       "      <td>Turkey</td>\n",
       "      <td>Once seen simply as the gateway to the Turkish...</td>\n",
       "      <td>112</td>\n",
       "      <td>Once seen simply as the gateway to the Turkish...</td>\n",
       "      <td>0</td>\n",
       "      <td>0</td>\n",
       "      <td>0</td>\n",
       "    </tr>\n",
       "    <tr>\n",
       "      <th>1</th>\n",
       "      <td>Athens</td>\n",
       "      <td>Greece</td>\n",
       "      <td>With equal measures of grunge and grace, Athen...</td>\n",
       "      <td>393</td>\n",
       "      <td>With equal measures of grunge and grace Athens...</td>\n",
       "      <td>1</td>\n",
       "      <td>0</td>\n",
       "      <td>0</td>\n",
       "    </tr>\n",
       "    <tr>\n",
       "      <th>2</th>\n",
       "      <td>Ayia-napa</td>\n",
       "      <td>Cyprus</td>\n",
       "      <td>Endless blue-sky days and a coastline riddled ...</td>\n",
       "      <td>147</td>\n",
       "      <td>Endless bluesky days and a coastline riddled w...</td>\n",
       "      <td>0</td>\n",
       "      <td>0</td>\n",
       "      <td>1</td>\n",
       "    </tr>\n",
       "    <tr>\n",
       "      <th>3</th>\n",
       "      <td>Bangkok</td>\n",
       "      <td>Thailand</td>\n",
       "      <td>Same same, but different. This Thailish T-shir...</td>\n",
       "      <td>398</td>\n",
       "      <td>Same same but different This Thailish Tshirt p...</td>\n",
       "      <td>0</td>\n",
       "      <td>0</td>\n",
       "      <td>0</td>\n",
       "    </tr>\n",
       "    <tr>\n",
       "      <th>4</th>\n",
       "      <td>Barcelona</td>\n",
       "      <td>Spain</td>\n",
       "      <td>Barcelona is an enchanting seaside city with b...</td>\n",
       "      <td>427</td>\n",
       "      <td>Barcelona is an enchanting seaside city with b...</td>\n",
       "      <td>0</td>\n",
       "      <td>0</td>\n",
       "      <td>1</td>\n",
       "    </tr>\n",
       "    <tr>\n",
       "      <th>...</th>\n",
       "      <td>...</td>\n",
       "      <td>...</td>\n",
       "      <td>...</td>\n",
       "      <td>...</td>\n",
       "      <td>...</td>\n",
       "      <td>...</td>\n",
       "      <td>...</td>\n",
       "      <td>...</td>\n",
       "    </tr>\n",
       "    <tr>\n",
       "      <th>71</th>\n",
       "      <td>Venice</td>\n",
       "      <td>italy</td>\n",
       "      <td>Imagine the audacity of building a city of mar...</td>\n",
       "      <td>420</td>\n",
       "      <td>Imagine the audacity of building a city of mar...</td>\n",
       "      <td>0</td>\n",
       "      <td>0</td>\n",
       "      <td>0</td>\n",
       "    </tr>\n",
       "    <tr>\n",
       "      <th>72</th>\n",
       "      <td>Vienna</td>\n",
       "      <td>Austria</td>\n",
       "      <td>Baroque streetscapes and imperial palaces set ...</td>\n",
       "      <td>418</td>\n",
       "      <td>Baroque streetscapes and imperial palaces set ...</td>\n",
       "      <td>0</td>\n",
       "      <td>5</td>\n",
       "      <td>0</td>\n",
       "    </tr>\n",
       "    <tr>\n",
       "      <th>73</th>\n",
       "      <td>Warsaw</td>\n",
       "      <td>Poland</td>\n",
       "      <td>A phoenix arisen from the ashes, Poland's capi...</td>\n",
       "      <td>406</td>\n",
       "      <td>A phoenix arisen from the ashes Polands capita...</td>\n",
       "      <td>0</td>\n",
       "      <td>5</td>\n",
       "      <td>0</td>\n",
       "    </tr>\n",
       "    <tr>\n",
       "      <th>74</th>\n",
       "      <td>Zakynthos</td>\n",
       "      <td>Greece</td>\n",
       "      <td>Zakynthos, also known by its Italian name Zant...</td>\n",
       "      <td>118</td>\n",
       "      <td>Zakynthos also known by its Italian name Zante...</td>\n",
       "      <td>0</td>\n",
       "      <td>0</td>\n",
       "      <td>0</td>\n",
       "    </tr>\n",
       "    <tr>\n",
       "      <th>75</th>\n",
       "      <td>Zurich</td>\n",
       "      <td>Switzerland</td>\n",
       "      <td>Culturally vibrant, efficiently run and attrac...</td>\n",
       "      <td>119</td>\n",
       "      <td>Culturally vibrant efficiently run and attract...</td>\n",
       "      <td>0</td>\n",
       "      <td>0</td>\n",
       "      <td>0</td>\n",
       "    </tr>\n",
       "  </tbody>\n",
       "</table>\n",
       "<p>76 rows × 8 columns</p>\n",
       "</div>"
      ],
      "text/plain": [
       "         City      Country                                        Description  \\\n",
       "0     Antalya       Turkey  Once seen simply as the gateway to the Turkish...   \n",
       "1      Athens       Greece  With equal measures of grunge and grace, Athen...   \n",
       "2   Ayia-napa       Cyprus  Endless blue-sky days and a coastline riddled ...   \n",
       "3     Bangkok     Thailand  Same same, but different. This Thailish T-shir...   \n",
       "4   Barcelona        Spain  Barcelona is an enchanting seaside city with b...   \n",
       "..        ...          ...                                                ...   \n",
       "71     Venice        italy  Imagine the audacity of building a city of mar...   \n",
       "72     Vienna      Austria  Baroque streetscapes and imperial palaces set ...   \n",
       "73     Warsaw       Poland  A phoenix arisen from the ashes, Poland's capi...   \n",
       "74  Zakynthos       Greece  Zakynthos, also known by its Italian name Zant...   \n",
       "75     Zurich  Switzerland  Culturally vibrant, efficiently run and attrac...   \n",
       "\n",
       "    num_of_words                               No_punct_description  \\\n",
       "0            112  Once seen simply as the gateway to the Turkish...   \n",
       "1            393  With equal measures of grunge and grace Athens...   \n",
       "2            147  Endless bluesky days and a coastline riddled w...   \n",
       "3            398  Same same but different This Thailish Tshirt p...   \n",
       "4            427  Barcelona is an enchanting seaside city with b...   \n",
       "..           ...                                                ...   \n",
       "71           420  Imagine the audacity of building a city of mar...   \n",
       "72           418  Baroque streetscapes and imperial palaces set ...   \n",
       "73           406  A phoenix arisen from the ashes Polands capita...   \n",
       "74           118  Zakynthos also known by its Italian name Zante...   \n",
       "75           119  Culturally vibrant efficiently run and attract...   \n",
       "\n",
       "    has_restaurants  has_museums  has_beaches  \n",
       "0                 0            0            0  \n",
       "1                 1            0            0  \n",
       "2                 0            0            1  \n",
       "3                 0            0            0  \n",
       "4                 0            0            1  \n",
       "..              ...          ...          ...  \n",
       "71                0            0            0  \n",
       "72                0            5            0  \n",
       "73                0            5            0  \n",
       "74                0            0            0  \n",
       "75                0            0            0  \n",
       "\n",
       "[76 rows x 8 columns]"
      ]
     },
     "execution_count": 166,
     "metadata": {},
     "output_type": "execute_result"
    }
   ],
   "source": [
    " LP_destinations"
   ]
  },
  {
   "cell_type": "markdown",
   "id": "69aade90",
   "metadata": {},
   "source": [
    "### Average number of words in the description coulmn:"
   ]
  },
  {
   "cell_type": "code",
   "execution_count": 167,
   "id": "9b4bcc88",
   "metadata": {},
   "outputs": [],
   "source": [
    "# first we calculate the number of wornds in No_punck_description coulmn, in order to get the \"real\" words in the description\n",
    "def num_of_words_no_punct(no_punck_description): \n",
    "    no_punck_description = no_punck_description.split()\n",
    "    return len(no_punck_description)"
   ]
  },
  {
   "cell_type": "code",
   "execution_count": 168,
   "id": "63c16875",
   "metadata": {},
   "outputs": [],
   "source": [
    " LP_destinations['No_punct_words'] = LP_destinations['No_punct_description'].apply(num_of_words_no_punct)"
   ]
  },
  {
   "cell_type": "code",
   "execution_count": 169,
   "id": "25c4aaa2",
   "metadata": {},
   "outputs": [
    {
     "data": {
      "text/plain": [
       "273.6578947368421"
      ]
     },
     "execution_count": 169,
     "metadata": {},
     "output_type": "execute_result"
    }
   ],
   "source": [
    " LP_destinations['No_punct_words'].mean() #the avg number of words in the desscription culms"
   ]
  },
  {
   "cell_type": "markdown",
   "id": "19c2c03c",
   "metadata": {},
   "source": [
    "### The city with the longest description "
   ]
  },
  {
   "cell_type": "code",
   "execution_count": 144,
   "id": "187226b0",
   "metadata": {},
   "outputs": [
    {
     "data": {
      "text/plain": [
       "522"
      ]
     },
     "execution_count": 144,
     "metadata": {},
     "output_type": "execute_result"
    }
   ],
   "source": [
    " LP_destinations['No_punct_words'].max()"
   ]
  },
  {
   "cell_type": "code",
   "execution_count": 146,
   "id": "42999e00",
   "metadata": {},
   "outputs": [
    {
     "data": {
      "text/plain": [
       "28    Florence\n",
       "Name: City, dtype: object"
      ]
     },
     "execution_count": 146,
     "metadata": {},
     "output_type": "execute_result"
    }
   ],
   "source": [
    "LP_destinations['City'].iloc[np.where(LP_destinations['No_punct_words']==522)]"
   ]
  },
  {
   "cell_type": "code",
   "execution_count": 147,
   "id": "22af6df5",
   "metadata": {},
   "outputs": [
    {
     "data": {
      "text/html": [
       "<div>\n",
       "<style scoped>\n",
       "    .dataframe tbody tr th:only-of-type {\n",
       "        vertical-align: middle;\n",
       "    }\n",
       "\n",
       "    .dataframe tbody tr th {\n",
       "        vertical-align: top;\n",
       "    }\n",
       "\n",
       "    .dataframe thead th {\n",
       "        text-align: right;\n",
       "    }\n",
       "</style>\n",
       "<table border=\"1\" class=\"dataframe\">\n",
       "  <thead>\n",
       "    <tr style=\"text-align: right;\">\n",
       "      <th></th>\n",
       "      <th>City</th>\n",
       "      <th>Country</th>\n",
       "      <th>Description</th>\n",
       "      <th>num_of_words</th>\n",
       "      <th>No_punct_description</th>\n",
       "      <th>has_restaurants</th>\n",
       "      <th>has_museums</th>\n",
       "      <th>has_beaches</th>\n",
       "      <th>no_punct_words</th>\n",
       "      <th>No_punct_words</th>\n",
       "    </tr>\n",
       "  </thead>\n",
       "  <tbody>\n",
       "    <tr>\n",
       "      <th>28</th>\n",
       "      <td>Florence</td>\n",
       "      <td>italy</td>\n",
       "      <td>Cradle of the Renaissance, romantic, enchantin...</td>\n",
       "      <td>526</td>\n",
       "      <td>Cradle of the Renaissance romantic enchanting ...</td>\n",
       "      <td>0</td>\n",
       "      <td>0</td>\n",
       "      <td>1</td>\n",
       "      <td>522</td>\n",
       "      <td>522</td>\n",
       "    </tr>\n",
       "  </tbody>\n",
       "</table>\n",
       "</div>"
      ],
      "text/plain": [
       "        City Country                                        Description  \\\n",
       "28  Florence   italy  Cradle of the Renaissance, romantic, enchantin...   \n",
       "\n",
       "    num_of_words                               No_punct_description  \\\n",
       "28           526  Cradle of the Renaissance romantic enchanting ...   \n",
       "\n",
       "    has_restaurants  has_museums  has_beaches  no_punct_words  No_punct_words  \n",
       "28                0            0            1             522             522  "
      ]
     },
     "execution_count": 147,
     "metadata": {},
     "output_type": "execute_result"
    }
   ],
   "source": [
    "LP_destinations[LP_destinations['City']=='Florence']"
   ]
  },
  {
   "cell_type": "markdown",
   "id": "819636cc",
   "metadata": {},
   "source": [
    "### Data visualization "
   ]
  },
  {
   "cell_type": "code",
   "execution_count": 170,
   "id": "594ab42e",
   "metadata": {},
   "outputs": [
    {
     "data": {
      "text/plain": [
       "Text(0.5, 1.0, 'example histogram')"
      ]
     },
     "execution_count": 170,
     "metadata": {},
     "output_type": "execute_result"
    },
    {
     "data": {
      "image/png": "[encoded data removed]",
      "text/plain": [
       "<Figure size 432x288 with 1 Axes>"
      ]
     },
     "metadata": {
      "needs_background": "light"
     },
     "output_type": "display_data"
    }
   ],
   "source": [
    "#histogram of the column “num_of_words”\n",
    "\n",
    "x =  LP_destinations['num_of_words']\n",
    "plt.hist(x, bins=20 ,color='b')\n",
    "\n",
    "plt.xlabel(\"num of words\")\n",
    "plt.ylabel(\"Frequency\")\n",
    "plt.title(\"example histogram\")"
   ]
  },
  {
   "cell_type": "code",
   "execution_count": 149,
   "id": "df27f9d8",
   "metadata": {},
   "outputs": [
    {
     "data": {
      "image/png": "[encoded data removed]",
      "text/plain": [
       "<Figure size 432x288 with 1 Axes>"
      ]
     },
     "metadata": {
      "needs_background": "light"
     },
     "output_type": "display_data"
    }
   ],
   "source": [
    "# A scatter plot that shows the relationship between number of beaches and number of restaurants. \n",
    "\n",
    "x =  LP_destinations['has_beaches']\n",
    "y =  LP_destinations['has_restaurants']\n",
    "\n",
    "plt.scatter(x, y)\n",
    "\n",
    "plt.xlabel('num of beaches')\n",
    "plt.ylabel('num of restaurants')\n",
    "\n",
    "\n",
    "for label, x, y in zip(LP_destinations['City'], x, y):\n",
    "    plt.annotate(  # adding annotation to the diagram\n",
    "        label, \n",
    "        xy = (x, y), xytext = (20, -20),\n",
    "        textcoords = 'offset points', ha = 'right', va = 'bottom',\n",
    "        bbox = dict(boxstyle = 'round,pad=0.5', fc = 'pink', alpha = 0.5), \n",
    "        arrowprops = dict(arrowstyle = '->', connectionstyle = 'arc3,rad=0'))\n",
    "    \n",
    "    \n",
    "plt.show()"
   ]
  },
  {
   "cell_type": "code",
   "execution_count": 150,
   "id": "888e2915",
   "metadata": {},
   "outputs": [
    {
     "data": {
      "image/png": "[encoded data removed]",
      "text/plain": [
       "<Figure size 432x288 with 1 Axes>"
      ]
     },
     "metadata": {
      "needs_background": "light"
     },
     "output_type": "display_data"
    }
   ],
   "source": [
    "#A scatter plot that shows the relationship between number of museums and the number of beaches\n",
    "\n",
    "x =  LP_destinations['has_beaches']\n",
    "y =  LP_destinations['has_museums']\n",
    "\n",
    "plt.scatter(x, y)\n",
    "\n",
    "plt.xlabel('num of beaches')\n",
    "plt.ylabel('num of museums')\n",
    "\n",
    "\n",
    "for label, x, y in zip(LP_destinations['City'], x, y):\n",
    "    plt.annotate(  # adding annotation to the diagram\n",
    "        label, \n",
    "        xy = (x, y), xytext = (20, -20),\n",
    "        textcoords = 'offset points', ha = 'right', va = 'bottom',\n",
    "        bbox = dict(boxstyle = 'round,pad=0.5', fc = 'pink', alpha = 0.5), # alpha - the intensity of the color\n",
    "        arrowprops = dict(arrowstyle = '->', connectionstyle = 'arc3,rad=0'))\n",
    "    \n",
    "    \n",
    "plt.show()"
   ]
  }
 ],
 "metadata": {
  "kernelspec": {
   "display_name": "Python 3 (ipykernel)",
   "language": "python",
   "name": "python3"
  },
  "language_info": {
   "codemirror_mode": {
    "name": "ipython",
    "version": 3
   },
   "file_extension": ".py",
   "mimetype": "text/x-python",
   "name": "python",
   "nbconvert_exporter": "python",
   "pygments_lexer": "ipython3",
   "version": "3.9.7"
  }
 },
 "nbformat": 4,
 "nbformat_minor": 5
}
